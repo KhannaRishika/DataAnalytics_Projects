{
 "cells": [
  {
   "cell_type": "code",
   "execution_count": 1,
   "id": "ec58d116",
   "metadata": {},
   "outputs": [],
   "source": [
    "import os,shutil"
   ]
  },
  {
   "cell_type": "code",
   "execution_count": 2,
   "id": "34df839b",
   "metadata": {},
   "outputs": [],
   "source": [
    "path = r'C:/Users/khann/OneDrive/Documents/Work/MyProjects/PYTHON/Test/'\n",
    "####path = os.getcwd()+'\\\\'\n",
    "os.chdir(path)\n"
   ]
  },
  {
   "cell_type": "code",
   "execution_count": 3,
   "id": "ca4351bf",
   "metadata": {},
   "outputs": [
    {
     "data": {
      "text/plain": [
       "['20230621_090318 (1).jpg',\n",
       " 'DS1_C4_S2_Creating_DataFrames_Using_Series_ChallengeHelper.ipynb',\n",
       " 'DSC_6252.jpg']"
      ]
     },
     "execution_count": 3,
     "metadata": {},
     "output_type": "execute_result"
    }
   ],
   "source": [
    "Contents = os.listdir(path)"
   ]
  },
  {
   "cell_type": "code",
   "execution_count": 4,
   "id": "afd1972d",
   "metadata": {},
   "outputs": [],
   "source": [
    "#excluding folder if present.\n",
    "Exclude = [c for c in Contents if '.' not in c]   \n",
    "x = list(map(lambda i : Contents.remove(i)  ,Exclude))\n",
    "\n",
    "#capturing, types of files, in a list\n",
    "FolderNames = list(set(map(lambda i : i[i.rfind('.')+1:]  ,Contents)))\n",
    "\n",
    "for FolderName in FolderNames: \n",
    "    if not os.path.exists(path + FolderName+'_files'):\n",
    "        os.mkdir(path + FolderName+'_files')\n",
    "\n",
    "for file in Contents: \n",
    "    extension = file[file.rfind('.')+1:]\n",
    "    if extension in FolderNames and not os.path.exists(path + extension+'_files/'+file):        \n",
    "        shutil.move(path+file , path+extension+'_files/'+file)"
   ]
  },
  {
   "cell_type": "code",
   "execution_count": null,
   "id": "885b2372",
   "metadata": {},
   "outputs": [],
   "source": []
  },
  {
   "cell_type": "code",
   "execution_count": null,
   "id": "8b4bc13f",
   "metadata": {},
   "outputs": [],
   "source": []
  }
 ],
 "metadata": {
  "kernelspec": {
   "display_name": "Python 3 (ipykernel)",
   "language": "python",
   "name": "python3"
  },
  "language_info": {
   "codemirror_mode": {
    "name": "ipython",
    "version": 3
   },
   "file_extension": ".py",
   "mimetype": "text/x-python",
   "name": "python",
   "nbconvert_exporter": "python",
   "pygments_lexer": "ipython3",
   "version": "3.10.9"
  }
 },
 "nbformat": 4,
 "nbformat_minor": 5
}
